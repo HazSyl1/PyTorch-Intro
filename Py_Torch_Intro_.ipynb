{
  "nbformat": 4,
  "nbformat_minor": 0,
  "metadata": {
    "colab": {
      "provenance": [],
      "authorship_tag": "ABX9TyOIXzRttNJudhLPdT4919/n",
      "include_colab_link": true
    },
    "kernelspec": {
      "name": "python3",
      "display_name": "Python 3"
    },
    "language_info": {
      "name": "python"
    }
  },
  "cells": [
    {
      "cell_type": "markdown",
      "metadata": {
        "id": "view-in-github",
        "colab_type": "text"
      },
      "source": [
        "<a href=\"https://colab.research.google.com/github/HazSyl1/PyTorch-Intro/blob/main/Py_Torch_Intro_.ipynb\" target=\"_parent\"><img src=\"https://colab.research.google.com/assets/colab-badge.svg\" alt=\"Open In Colab\"/></a>"
      ]
    },
    {
      "cell_type": "code",
      "execution_count": 1,
      "metadata": {
        "id": "YDDCZ7vICrgx"
      },
      "outputs": [],
      "source": [
        "import torch"
      ]
    },
    {
      "cell_type": "code",
      "source": [
        "print(torch.empty(1))"
      ],
      "metadata": {
        "colab": {
          "base_uri": "https://localhost:8080/"
        },
        "id": "_-b1vqsECyzI",
        "outputId": "994c1de9-8b28-48b2-9adf-2d3d19a75d8d"
      },
      "execution_count": 2,
      "outputs": [
        {
          "output_type": "stream",
          "name": "stdout",
          "text": [
            "tensor([-2.4311e+20])\n"
          ]
        }
      ]
    },
    {
      "cell_type": "code",
      "source": [
        "print(torch.empty(3))"
      ],
      "metadata": {
        "colab": {
          "base_uri": "https://localhost:8080/"
        },
        "id": "YtHkZm2vDA3p",
        "outputId": "80779eab-289c-4b93-8a3b-8bb8cbf325a8"
      },
      "execution_count": 3,
      "outputs": [
        {
          "output_type": "stream",
          "name": "stdout",
          "text": [
            "tensor([1.5365e+03, 3.3052e-41, 4.6404e-17])\n"
          ]
        }
      ]
    },
    {
      "cell_type": "code",
      "source": [
        "print(torch.empty(2,3))"
      ],
      "metadata": {
        "colab": {
          "base_uri": "https://localhost:8080/"
        },
        "id": "8SbM3BZYDDt3",
        "outputId": "6366a483-9a38-4ca0-b9f3-3dc86a98fbce"
      },
      "execution_count": 4,
      "outputs": [
        {
          "output_type": "stream",
          "name": "stdout",
          "text": [
            "tensor([[-6.3348e-35,  3.3057e-41, -6.3349e-35],\n",
            "        [ 3.3057e-41,  1.4013e-45,  7.0065e-45]])\n"
          ]
        }
      ]
    },
    {
      "cell_type": "code",
      "source": [
        "print(torch.rand(5,3))"
      ],
      "metadata": {
        "colab": {
          "base_uri": "https://localhost:8080/"
        },
        "id": "bhMBOk6QDFww",
        "outputId": "6c18082f-fcea-4af8-ffc2-9b7ef573d266"
      },
      "execution_count": 5,
      "outputs": [
        {
          "output_type": "stream",
          "name": "stdout",
          "text": [
            "tensor([[0.7311, 0.6784, 0.5969],\n",
            "        [0.7906, 0.0348, 0.5724],\n",
            "        [0.7010, 0.7177, 0.9693],\n",
            "        [0.2459, 0.0205, 0.4784],\n",
            "        [0.6746, 0.4024, 0.8552]])\n"
          ]
        }
      ]
    },
    {
      "cell_type": "code",
      "source": [
        "print(torch.zeros(5,3))"
      ],
      "metadata": {
        "colab": {
          "base_uri": "https://localhost:8080/"
        },
        "id": "8Fr1hYOtDJan",
        "outputId": "77ebb079-e7ee-408c-d833-23726551e20f"
      },
      "execution_count": 7,
      "outputs": [
        {
          "output_type": "stream",
          "name": "stdout",
          "text": [
            "tensor([[0., 0., 0.],\n",
            "        [0., 0., 0.],\n",
            "        [0., 0., 0.],\n",
            "        [0., 0., 0.],\n",
            "        [0., 0., 0.]])\n"
          ]
        }
      ]
    },
    {
      "cell_type": "code",
      "source": [
        "print(torch.ones(5,3))"
      ],
      "metadata": {
        "colab": {
          "base_uri": "https://localhost:8080/"
        },
        "id": "7aI08g93DYTZ",
        "outputId": "0a49bcee-94fc-48a8-a4db-1903cd0a1558"
      },
      "execution_count": 8,
      "outputs": [
        {
          "output_type": "stream",
          "name": "stdout",
          "text": [
            "tensor([[1., 1., 1.],\n",
            "        [1., 1., 1.],\n",
            "        [1., 1., 1.],\n",
            "        [1., 1., 1.],\n",
            "        [1., 1., 1.]])\n"
          ]
        }
      ]
    },
    {
      "cell_type": "code",
      "source": [
        "x=torch.zeros(5,3)\n",
        "print(x.shape)\n",
        "print(x.size())"
      ],
      "metadata": {
        "colab": {
          "base_uri": "https://localhost:8080/"
        },
        "id": "k1KAxB9-DZeo",
        "outputId": "81c119ce-d4ee-4df8-8bea-11179b2bf496"
      },
      "execution_count": 11,
      "outputs": [
        {
          "output_type": "stream",
          "name": "stdout",
          "text": [
            "torch.Size([5, 3])\n",
            "torch.Size([5, 3])\n"
          ]
        }
      ]
    },
    {
      "cell_type": "code",
      "source": [
        "print(x.dtype)"
      ],
      "metadata": {
        "colab": {
          "base_uri": "https://localhost:8080/"
        },
        "id": "Hvf1MveBDpKP",
        "outputId": "a9eff09e-e1ea-4410-a159-7146b6f5835b"
      },
      "execution_count": 12,
      "outputs": [
        {
          "output_type": "stream",
          "name": "stdout",
          "text": [
            "torch.float32\n"
          ]
        }
      ]
    },
    {
      "cell_type": "code",
      "source": [
        "x=torch.zeros(5,3, dtype=torch.float16)\n",
        "print(x.dtype)"
      ],
      "metadata": {
        "colab": {
          "base_uri": "https://localhost:8080/"
        },
        "id": "DhPn3pW6DkdJ",
        "outputId": "bc826b0b-fcd9-430f-9a62-2ce7093b983b"
      },
      "execution_count": 13,
      "outputs": [
        {
          "output_type": "stream",
          "name": "stdout",
          "text": [
            "torch.float16\n"
          ]
        }
      ]
    },
    {
      "cell_type": "code",
      "source": [
        "x=torch.tensor([5.5,3])\n",
        "print(x,x.dtype)"
      ],
      "metadata": {
        "colab": {
          "base_uri": "https://localhost:8080/"
        },
        "id": "FWCEDAgXDkfj",
        "outputId": "5fbcb0bb-2ba7-441a-d222-be1e3e90e590"
      },
      "execution_count": 14,
      "outputs": [
        {
          "output_type": "stream",
          "name": "stdout",
          "text": [
            "tensor([5.5000, 3.0000]) torch.float32\n"
          ]
        }
      ]
    },
    {
      "cell_type": "code",
      "source": [
        "x=torch.tensor([5.5,3] , requires_grad=True)\n",
        "print(x)\n",
        "#gradients are req , for optimizing"
      ],
      "metadata": {
        "colab": {
          "base_uri": "https://localhost:8080/"
        },
        "id": "O5l15pZ3D-vH",
        "outputId": "850b3664-51f3-4457-b082-58433f16449b"
      },
      "execution_count": 15,
      "outputs": [
        {
          "output_type": "stream",
          "name": "stdout",
          "text": [
            "tensor([5.5000, 3.0000], requires_grad=True)\n"
          ]
        }
      ]
    },
    {
      "cell_type": "code",
      "source": [],
      "metadata": {
        "id": "kkw1XMAwEQ3g"
      },
      "execution_count": 15,
      "outputs": []
    },
    {
      "cell_type": "code",
      "source": [
        "x=torch.ones(2,2)\n",
        "y=torch.rand(2,2)\n",
        "\n",
        "z=x*y\n",
        "\n",
        "print(x)\n",
        "print(y)\n",
        "print(z)"
      ],
      "metadata": {
        "colab": {
          "base_uri": "https://localhost:8080/"
        },
        "id": "RC3hCSHwEx3B",
        "outputId": "f2244443-42ba-4b46-d91e-83a6fdd21258"
      },
      "execution_count": 18,
      "outputs": [
        {
          "output_type": "stream",
          "name": "stdout",
          "text": [
            "tensor([[1., 1.],\n",
            "        [1., 1.]])\n",
            "tensor([[0.8296, 0.9383],\n",
            "        [0.6690, 0.9273]])\n",
            "tensor([[0.8296, 0.9383],\n",
            "        [0.6690, 0.9273]])\n"
          ]
        }
      ]
    },
    {
      "cell_type": "code",
      "source": [
        "torch.add(x,y)"
      ],
      "metadata": {
        "colab": {
          "base_uri": "https://localhost:8080/"
        },
        "id": "-Z_wdGjGFFOm",
        "outputId": "c915f41c-831b-4aae-ed51-799f6908926c"
      },
      "execution_count": 20,
      "outputs": [
        {
          "output_type": "execute_result",
          "data": {
            "text/plain": [
              "tensor([[1.8296, 1.9383],\n",
              "        [1.6690, 1.9273]])"
            ]
          },
          "metadata": {},
          "execution_count": 20
        }
      ]
    },
    {
      "cell_type": "code",
      "source": [
        "y.add_(x)"
      ],
      "metadata": {
        "colab": {
          "base_uri": "https://localhost:8080/"
        },
        "id": "wBwRSn0mL1Yw",
        "outputId": "1c7e814a-177e-4099-996c-d358f80abca6"
      },
      "execution_count": 21,
      "outputs": [
        {
          "output_type": "execute_result",
          "data": {
            "text/plain": [
              "tensor([[1.8296, 1.9383],\n",
              "        [1.6690, 1.9273]])"
            ]
          },
          "metadata": {},
          "execution_count": 21
        }
      ]
    },
    {
      "cell_type": "code",
      "source": [
        "x=torch.rand(5,3)\n",
        "print(x)\n",
        "print(x[:,0])\n",
        "print(x[0,:])\n",
        "print(x[1,1].item())"
      ],
      "metadata": {
        "colab": {
          "base_uri": "https://localhost:8080/"
        },
        "id": "ckmnCjg2FLoi",
        "outputId": "2e5b3a34-e236-4982-f009-fd56b834d1c9"
      },
      "execution_count": 25,
      "outputs": [
        {
          "output_type": "stream",
          "name": "stdout",
          "text": [
            "tensor([[0.6395, 0.8689, 0.7616],\n",
            "        [0.6249, 0.6489, 0.7051],\n",
            "        [0.8442, 0.7969, 0.1086],\n",
            "        [0.1033, 0.6783, 0.7858],\n",
            "        [0.1220, 0.8287, 0.2910]])\n",
            "tensor([0.6395, 0.6249, 0.8442, 0.1033, 0.1220])\n",
            "tensor([0.6395, 0.8689, 0.7616])\n",
            "0.6488754153251648\n"
          ]
        }
      ]
    },
    {
      "cell_type": "code",
      "source": [
        "#reshape\n",
        "x=torch.randn(4,4)\n",
        "y=x.view(16)\n",
        "z=x.view(-1,8)\n",
        "print(x.size())\n",
        "print(y.size())\n",
        "print(z.size())\n"
      ],
      "metadata": {
        "colab": {
          "base_uri": "https://localhost:8080/"
        },
        "id": "grOcWIb8MKfv",
        "outputId": "05037420-a44c-4551-ebb4-89eb93148d2b"
      },
      "execution_count": 27,
      "outputs": [
        {
          "output_type": "stream",
          "name": "stdout",
          "text": [
            "torch.Size([4, 4])\n",
            "torch.Size([16])\n",
            "torch.Size([2, 8])\n"
          ]
        }
      ]
    },
    {
      "cell_type": "code",
      "source": [
        "a=torch.ones(5)\n",
        "b=a.numpy()\n",
        "print(type(b))"
      ],
      "metadata": {
        "colab": {
          "base_uri": "https://localhost:8080/"
        },
        "id": "GJUYgx9EFLqv",
        "outputId": "e38ba709-6474-40a7-c55a-4fcb9168ccad"
      },
      "execution_count": 28,
      "outputs": [
        {
          "output_type": "stream",
          "name": "stdout",
          "text": [
            "<class 'numpy.ndarray'>\n"
          ]
        }
      ]
    },
    {
      "cell_type": "code",
      "source": [
        "import numpy as np\n",
        "a=np.ones(5)\n",
        "b=torch.from_numpy(a)\n",
        "c=torch.tensor(a)\n",
        "print(a,b,c)"
      ],
      "metadata": {
        "colab": {
          "base_uri": "https://localhost:8080/"
        },
        "id": "DWuez3YoWdEQ",
        "outputId": "c996409f-af4e-4ddd-a91b-0ca76ebff1bb"
      },
      "execution_count": 30,
      "outputs": [
        {
          "output_type": "stream",
          "name": "stdout",
          "text": [
            "[1. 1. 1. 1. 1.] tensor([1., 1., 1., 1., 1.], dtype=torch.float64) tensor([1., 1., 1., 1., 1.], dtype=torch.float64)\n"
          ]
        }
      ]
    },
    {
      "cell_type": "code",
      "source": [
        "# c does not gets modified but b does"
      ],
      "metadata": {
        "id": "UPk8hODbWPh1"
      },
      "execution_count": 27,
      "outputs": []
    },
    {
      "cell_type": "code",
      "source": [
        "device=torch.device('cuda' if torch.cuda.is_available() else 'cpu')\n",
        "\n",
        "x=torch.rand(2,2).to(device) #move tensors to GPU device\n",
        "#x=x.to('cpu')\n",
        "#x=x.to('cuda')\n",
        "\n",
        "x=torch.rand(2,2,device=device) # Directly creating them on the GPU\n",
        "# ^quick as the above one requires the creation to be done on the\n",
        "# CPU and then transfer it to the GPU"
      ],
      "metadata": {
        "id": "4Ra-kzpEWPkS"
      },
      "execution_count": 31,
      "outputs": []
    },
    {
      "cell_type": "code",
      "source": [
        "x=torch.randn(3 , requires_grad=True)\n",
        "y=x+2\n",
        "\n",
        "print(x)\n",
        "print(y)\n",
        "print(y.grad_fn)"
      ],
      "metadata": {
        "colab": {
          "base_uri": "https://localhost:8080/"
        },
        "id": "ezYhvCKYX_3I",
        "outputId": "8118f4d3-e6ce-4dbd-e208-e8f7951e6895"
      },
      "execution_count": 33,
      "outputs": [
        {
          "output_type": "stream",
          "name": "stdout",
          "text": [
            "tensor([1.6263, 0.4391, 0.1880], requires_grad=True)\n",
            "tensor([3.6263, 2.4391, 2.1880], grad_fn=<AddBackward0>)\n",
            "<AddBackward0 object at 0x78c9e13a9d80>\n"
          ]
        }
      ]
    },
    {
      "cell_type": "code",
      "source": [
        "z=y*y*3\n",
        "print(z)\n",
        "z=z.mean()\n",
        "print(z)"
      ],
      "metadata": {
        "colab": {
          "base_uri": "https://localhost:8080/"
        },
        "id": "Loq3i_XbZRG6",
        "outputId": "36c897f4-8f5a-47fc-ccdc-7d3a5c8d5242"
      },
      "execution_count": 34,
      "outputs": [
        {
          "output_type": "stream",
          "name": "stdout",
          "text": [
            "tensor([39.4511, 17.8484, 14.3622], grad_fn=<MulBackward0>)\n",
            "tensor(23.8872, grad_fn=<MeanBackward0>)\n"
          ]
        }
      ]
    },
    {
      "cell_type": "code",
      "source": [
        "print(x.grad)\n",
        "z.backward()\n",
        "print(x.grad) #dz/dx\n"
      ],
      "metadata": {
        "colab": {
          "base_uri": "https://localhost:8080/"
        },
        "id": "NLd9wrNuZ0ND",
        "outputId": "90dcc790-b635-4ace-902a-3b2df987e909"
      },
      "execution_count": 35,
      "outputs": [
        {
          "output_type": "stream",
          "name": "stdout",
          "text": [
            "None\n",
            "tensor([7.2527, 4.8783, 4.3760])\n"
          ]
        }
      ]
    },
    {
      "cell_type": "code",
      "source": [
        "a=torch.randn(2,2)\n",
        "b=(a*a).sum()\n",
        "print(a.requires_grad)\n",
        "print(b.grad_fn)"
      ],
      "metadata": {
        "colab": {
          "base_uri": "https://localhost:8080/"
        },
        "id": "4aSC84a0Z0RQ",
        "outputId": "275fa449-804d-4c30-9931-76f936676710"
      },
      "execution_count": 36,
      "outputs": [
        {
          "output_type": "stream",
          "name": "stdout",
          "text": [
            "False\n",
            "None\n"
          ]
        }
      ]
    },
    {
      "cell_type": "code",
      "source": [
        "a.requires_grad_(True)\n",
        "b=(a*a).sum()\n",
        "print(a.requires_grad)\n",
        "print(b.grad_fn)"
      ],
      "metadata": {
        "colab": {
          "base_uri": "https://localhost:8080/"
        },
        "id": "517rUH4RbFHB",
        "outputId": "2b399a4f-d4f2-4911-e7d2-de0a198bb839"
      },
      "execution_count": 37,
      "outputs": [
        {
          "output_type": "stream",
          "name": "stdout",
          "text": [
            "True\n",
            "<SumBackward0 object at 0x78c948a62560>\n"
          ]
        }
      ]
    },
    {
      "cell_type": "code",
      "source": [
        "b=a.detach()\n",
        "print(a.requires_grad)\n",
        "print(b.requires_grad)"
      ],
      "metadata": {
        "colab": {
          "base_uri": "https://localhost:8080/"
        },
        "id": "3qjd-M4wbPL6",
        "outputId": "e1430f25-324d-4223-d016-d49d0928cc8a"
      },
      "execution_count": 39,
      "outputs": [
        {
          "output_type": "stream",
          "name": "stdout",
          "text": [
            "True\n",
            "False\n"
          ]
        }
      ]
    },
    {
      "cell_type": "code",
      "source": [
        "a=torch.randn(2,2 ,requires_grad=True)\n",
        "print(a.requires_grad)\n",
        "with torch.no_grad():\n",
        "  b=a **2\n",
        "  print(b.requires_grad)"
      ],
      "metadata": {
        "colab": {
          "base_uri": "https://localhost:8080/"
        },
        "id": "HbV2kuPpehPo",
        "outputId": "f41390a7-829a-48ad-a6f8-dc2740532d5a"
      },
      "execution_count": 40,
      "outputs": [
        {
          "output_type": "stream",
          "name": "stdout",
          "text": [
            "True\n",
            "False\n"
          ]
        }
      ]
    },
    {
      "cell_type": "code",
      "source": [
        "#GRADIENT DESCENT AUTOGRAD\n"
      ],
      "metadata": {
        "id": "2Pghfbjqer_L"
      },
      "execution_count": 41,
      "outputs": []
    },
    {
      "cell_type": "code",
      "source": [
        "f= 2*x\n",
        "\n",
        "X=torch.tensor([1,2,3,4,5,6,7,8] , dtype= torch.float32)\n",
        "y=torch.tensor([2,4,6,8,10,12,14,16] , dtype=torch.float32)\n",
        "\n",
        "w=torch.tensor(0.0 , dtype=torch.float32 , requires_grad=True)\n",
        "#(weights)\n",
        "\n",
        "def forward(x):\n",
        "  return w*x\n",
        "def loss(y,y_pred):\n",
        "  return((y_pred-y)**2).mean()\n",
        "\n",
        "X_test=5.0\n",
        "\n",
        "print(f'Prediction before training: f({X_test} = {forward(X_test).item():.3f})')\n",
        "\n",
        ""
      ],
      "metadata": {
        "colab": {
          "base_uri": "https://localhost:8080/"
        },
        "id": "7oxQy95FesBn",
        "outputId": "13f00052-7c06-40bd-ef6d-4418a7fec09e"
      },
      "execution_count": 48,
      "outputs": [
        {
          "output_type": "stream",
          "name": "stdout",
          "text": [
            "Prediction before training: f(5.0 = 0.000)\n"
          ]
        }
      ]
    },
    {
      "cell_type": "code",
      "source": [
        "#Training\n",
        "\n",
        "learning_rate = 0.01\n",
        "n_epoch= 100\n",
        "\n",
        "for epoch in range(n_epoch):\n",
        "  #predict = forward pass\n",
        "  y_pred=forward(X)\n",
        "\n",
        "  #loss\n",
        "  l=loss(y,y_pred)\n",
        "\n",
        "  # calculate gradient\n",
        "  l.backward()\n",
        "\n",
        "  #Update weights\n",
        "  #w.data=w.data-learning_rate *w.grad\n",
        "\n",
        "  with torch.no_grad():\n",
        "    w-= learning_rate * w.grad\n",
        "  #zero the gradien after update\n",
        "  w.grad.zero_()\n",
        "\n",
        "  if (epoch+1) % 10 ==0:\n",
        "    print(f\"Epoch {epoch+1}:w={w.item():.3f}, loss={l.item():.3f}\")\n",
        "\n",
        "print(f\"Prediction after training: f({X_test})= {forward(X_test).item():.3f}\")\n",
        "\n",
        "\n"
      ],
      "metadata": {
        "colab": {
          "base_uri": "https://localhost:8080/"
        },
        "id": "gLEyv-KGesDh",
        "outputId": "de35f18d-11ed-447d-fdbb-e6750c1b8562"
      },
      "execution_count": 50,
      "outputs": [
        {
          "output_type": "stream",
          "name": "stdout",
          "text": [
            "Epoch 10:w=2.000, loss=0.000\n",
            "Epoch 20:w=2.000, loss=0.000\n",
            "Epoch 30:w=2.000, loss=0.000\n",
            "Epoch 40:w=2.000, loss=0.000\n",
            "Epoch 50:w=2.000, loss=0.000\n",
            "Epoch 60:w=2.000, loss=0.000\n",
            "Epoch 70:w=2.000, loss=0.000\n",
            "Epoch 80:w=2.000, loss=0.000\n",
            "Epoch 90:w=2.000, loss=0.000\n",
            "Epoch 100:w=2.000, loss=0.000\n",
            "Prediction after training: f(5.0)= 10.000\n"
          ]
        }
      ]
    },
    {
      "cell_type": "code",
      "source": [
        "#We dont need to do this shit\n",
        "#WE CAN JUST USE LOSS FN AND OPTIMIZER\n"
      ],
      "metadata": {
        "id": "fV9vW-HLeaYh"
      },
      "execution_count": 51,
      "outputs": []
    },
    {
      "cell_type": "code",
      "source": [
        "l=0"
      ],
      "metadata": {
        "id": "W658gIpRmLrM"
      },
      "execution_count": 57,
      "outputs": []
    },
    {
      "cell_type": "code",
      "source": [
        "import torch.nn as nn\n",
        "\n",
        "X=torch.tensor([[1],[2],[3],[4],[5],[6],[7],[8]],dtype=torch.float32)\n",
        "Y=torch.tensor([[2],[4],[6],[8],[10],[12],[14],[16]],dtype=torch.float32)\n",
        "\n",
        "n_samples , n_features=X.shape\n",
        "print(X.shape)"
      ],
      "metadata": {
        "colab": {
          "base_uri": "https://localhost:8080/"
        },
        "id": "tuabUpozlpVL",
        "outputId": "693894fe-0ee2-4b3d-e7b5-eaff5825262d"
      },
      "execution_count": 54,
      "outputs": [
        {
          "output_type": "stream",
          "name": "stdout",
          "text": [
            "torch.Size([8, 1])\n"
          ]
        }
      ]
    },
    {
      "cell_type": "code",
      "source": [
        "X_test = torch.tensor([5] ,dtype=torch.float32)\n"
      ],
      "metadata": {
        "id": "rpTiKdcjqQhh"
      },
      "execution_count": 55,
      "outputs": []
    },
    {
      "cell_type": "code",
      "source": [
        "#Design Model , forward pass it should be . . . .\n",
        "#Here we could use the inbuilt\n",
        "\n",
        "class LinearRegression(nn.Module):\n",
        "  def __init__(self,input_dim,output_dim):\n",
        "    super(LinearRegression,self).__init__()\n",
        "    #define differnet layers\n",
        "    self.lin =nn.Linear(input_dim,output_dim)\n",
        "\n",
        "  def forward(self,x):\n",
        "    #We apply the layer\n",
        "    return self.lin(x)\n",
        "\n",
        "#creating model instance\n",
        "\n",
        "input_size , output_size = n_features,n_features\n",
        "\n",
        "model = LinearRegression(input_size,output_size)\n",
        "print(f\"Prediction before training:f({X_test.item()})={model(X_test).item()}\")\n",
        "\n",
        "#2. Define loss and optimizer\n",
        "\n",
        "learning_rate=0.01\n",
        "n_epoch=100\n",
        "\n",
        "loss=nn.MSELoss()\n",
        "optimizer=torch.optim.SGD(model.parameters(), lr=learning_rate)\n",
        "\n",
        "#3Training Loop\n",
        "for epoch in range(n_epoch):\n",
        "  y_predict=model(X)\n",
        "\n",
        "  l=loss(Y,y_predict)\n",
        "\n",
        "  l.backward()\n",
        "\n",
        "  optimizer.step()\n",
        "\n",
        "  optimizer.zero_grad()\n",
        "\n",
        "  if(epoch+1) %10 ==0:\n",
        "    w,b=model.parameters()\n",
        "    print('epoch',epoch+1 , ': w=',w[0][0].item(), 'loss =',l.item())\n",
        "\n",
        "print(f\"Prediction after training : f({X_test.item()})={model(X_test).item()}\")\n"
      ],
      "metadata": {
        "colab": {
          "base_uri": "https://localhost:8080/"
        },
        "id": "XWVw1fCBlpYB",
        "outputId": "b8e83f1d-e9e2-47b4-e2aa-dba20b278ab9"
      },
      "execution_count": 60,
      "outputs": [
        {
          "output_type": "stream",
          "name": "stdout",
          "text": [
            "Prediction before training:f(5.0)=3.6543102264404297\n",
            "epoch 10 : w= 1.8319789171218872 loss = 0.18373993039131165\n",
            "epoch 20 : w= 1.8392527103424072 loss = 0.16955554485321045\n",
            "epoch 30 : w= 1.845556616783142 loss = 0.15651851892471313\n",
            "epoch 40 : w= 1.85161292552948 loss = 0.14448381960391998\n",
            "epoch 50 : w= 1.8574317693710327 loss = 0.13337451219558716\n",
            "epoch 60 : w= 1.8630224466323853 loss = 0.1231192871928215\n",
            "epoch 70 : w= 1.8683937788009644 loss = 0.11365273594856262\n",
            "epoch 80 : w= 1.8735547065734863 loss = 0.10491402447223663\n",
            "epoch 90 : w= 1.878512978553772 loss = 0.09684719145298004\n",
            "epoch 100 : w= 1.8832769393920898 loss = 0.08940069377422333\n",
            "Prediction after training : f(5.0)=10.072637557983398\n"
          ]
        }
      ]
    },
    {
      "cell_type": "code",
      "source": [],
      "metadata": {
        "id": "ca5887drlpbT"
      },
      "execution_count": 50,
      "outputs": []
    },
    {
      "cell_type": "code",
      "source": [],
      "metadata": {
        "id": "7yRVp0EelpeT"
      },
      "execution_count": null,
      "outputs": []
    },
    {
      "cell_type": "code",
      "source": [],
      "metadata": {
        "id": "vwCx-YUgbPRQ"
      },
      "execution_count": null,
      "outputs": []
    }
  ]
}